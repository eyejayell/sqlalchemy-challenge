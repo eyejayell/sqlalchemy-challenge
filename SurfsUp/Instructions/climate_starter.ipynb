{
 "cells": [
  {
   "cell_type": "code",
   "execution_count": 1,
   "metadata": {},
   "outputs": [],
   "source": [
    "%matplotlib inline\n",
    "from matplotlib import style\n",
    "style.use('fivethirtyeight')\n",
    "import matplotlib.pyplot as plt"
   ]
  },
  {
   "cell_type": "code",
   "execution_count": 2,
   "metadata": {},
   "outputs": [],
   "source": [
    "import numpy as np\n",
    "import pandas as pd\n",
    "import datetime as dt"
   ]
  },
  {
   "cell_type": "markdown",
   "metadata": {},
   "source": [
    "# Reflect Tables into SQLAlchemy ORM"
   ]
  },
  {
   "cell_type": "code",
   "execution_count": 3,
   "metadata": {},
   "outputs": [],
   "source": [
    "# Python SQL toolkit and Object Relational Mapper\n",
    "import sqlalchemy\n",
    "from sqlalchemy.ext.automap import automap_base\n",
    "from sqlalchemy.orm import Session\n",
    "from sqlalchemy import create_engine, func"
   ]
  },
  {
   "cell_type": "code",
   "execution_count": 4,
   "metadata": {},
   "outputs": [],
   "source": [
    "# create engine to hawaii.sqlite\n",
    "engine = create_engine(\"sqlite:///Resources/hawaii.sqlite\")"
   ]
  },
  {
   "cell_type": "code",
   "execution_count": 5,
   "metadata": {},
   "outputs": [],
   "source": [
    "# reflect an existing database into a new model\n",
    "Base = automap_base()\n",
    "\n",
    "# reflect the tables\n",
    "Base.prepare(autoload_with=engine)"
   ]
  },
  {
   "cell_type": "code",
   "execution_count": 6,
   "metadata": {},
   "outputs": [
    {
     "data": {
      "text/plain": [
       "['measurement', 'station']"
      ]
     },
     "execution_count": 6,
     "metadata": {},
     "output_type": "execute_result"
    }
   ],
   "source": [
    "# View all of the classes that automap found\n",
    "Base.classes.keys()"
   ]
  },
  {
   "cell_type": "code",
   "execution_count": 7,
   "metadata": {},
   "outputs": [],
   "source": [
    "# Save references to each table\n",
    "measurement = Base.classes.measurement\n",
    "\n",
    "station = Base.classes.station"
   ]
  },
  {
   "cell_type": "code",
   "execution_count": 8,
   "metadata": {},
   "outputs": [],
   "source": [
    "# Create our session (link) from Python to the DB\n",
    "session = Session(engine)"
   ]
  },
  {
   "cell_type": "code",
   "execution_count": 9,
   "metadata": {},
   "outputs": [
    {
     "data": {
      "text/plain": [
       "{'_sa_instance_state': <sqlalchemy.orm.state.InstanceState at 0x28af2bcde20>,\n",
       " 'date': '2010-01-01',\n",
       " 'tobs': 65.0,\n",
       " 'prcp': 0.08,\n",
       " 'id': 1,\n",
       " 'station': 'USC00519397'}"
      ]
     },
     "execution_count": 9,
     "metadata": {},
     "output_type": "execute_result"
    }
   ],
   "source": [
    "first_row = session.query(measurement).first()\n",
    "first_row.__dict__"
   ]
  },
  {
   "cell_type": "markdown",
   "metadata": {},
   "source": [
    "# Exploratory Precipitation Analysis"
   ]
  },
  {
   "cell_type": "code",
   "execution_count": 10,
   "metadata": {},
   "outputs": [
    {
     "data": {
      "text/plain": [
       "('2017-08-23',)"
      ]
     },
     "execution_count": 10,
     "metadata": {},
     "output_type": "execute_result"
    }
   ],
   "source": [
    "# Find the most recent date in the data set.\n",
    "\n",
    "query = sqlalchemy.select([measurement.date]).order_by(measurement.date.desc())\n",
    "\n",
    "last_date = engine.execute(query).fetchone()\n",
    "\n",
    "last_date"
   ]
  },
  {
   "cell_type": "code",
   "execution_count": 11,
   "metadata": {},
   "outputs": [
    {
     "data": {
      "text/html": [
       "<div>\n",
       "<style scoped>\n",
       "    .dataframe tbody tr th:only-of-type {\n",
       "        vertical-align: middle;\n",
       "    }\n",
       "\n",
       "    .dataframe tbody tr th {\n",
       "        vertical-align: top;\n",
       "    }\n",
       "\n",
       "    .dataframe thead th {\n",
       "        text-align: right;\n",
       "    }\n",
       "</style>\n",
       "<table border=\"1\" class=\"dataframe\">\n",
       "  <thead>\n",
       "    <tr style=\"text-align: right;\">\n",
       "      <th></th>\n",
       "      <th>Precipitation</th>\n",
       "      <th>Date</th>\n",
       "    </tr>\n",
       "  </thead>\n",
       "  <tbody>\n",
       "    <tr>\n",
       "      <th>0</th>\n",
       "      <td>0.00</td>\n",
       "      <td>2016-08-23</td>\n",
       "    </tr>\n",
       "    <tr>\n",
       "      <th>1</th>\n",
       "      <td>0.15</td>\n",
       "      <td>2016-08-23</td>\n",
       "    </tr>\n",
       "    <tr>\n",
       "      <th>2</th>\n",
       "      <td>0.05</td>\n",
       "      <td>2016-08-23</td>\n",
       "    </tr>\n",
       "    <tr>\n",
       "      <th>3</th>\n",
       "      <td>NaN</td>\n",
       "      <td>2016-08-23</td>\n",
       "    </tr>\n",
       "    <tr>\n",
       "      <th>4</th>\n",
       "      <td>0.02</td>\n",
       "      <td>2016-08-23</td>\n",
       "    </tr>\n",
       "    <tr>\n",
       "      <th>...</th>\n",
       "      <td>...</td>\n",
       "      <td>...</td>\n",
       "    </tr>\n",
       "    <tr>\n",
       "      <th>2225</th>\n",
       "      <td>0.50</td>\n",
       "      <td>2017-08-22</td>\n",
       "    </tr>\n",
       "    <tr>\n",
       "      <th>2228</th>\n",
       "      <td>0.08</td>\n",
       "      <td>2017-08-23</td>\n",
       "    </tr>\n",
       "    <tr>\n",
       "      <th>2226</th>\n",
       "      <td>0.00</td>\n",
       "      <td>2017-08-23</td>\n",
       "    </tr>\n",
       "    <tr>\n",
       "      <th>2227</th>\n",
       "      <td>0.00</td>\n",
       "      <td>2017-08-23</td>\n",
       "    </tr>\n",
       "    <tr>\n",
       "      <th>2229</th>\n",
       "      <td>0.45</td>\n",
       "      <td>2017-08-23</td>\n",
       "    </tr>\n",
       "  </tbody>\n",
       "</table>\n",
       "<p>2230 rows × 2 columns</p>\n",
       "</div>"
      ],
      "text/plain": [
       "      Precipitation        Date\n",
       "0              0.00  2016-08-23\n",
       "1              0.15  2016-08-23\n",
       "2              0.05  2016-08-23\n",
       "3               NaN  2016-08-23\n",
       "4              0.02  2016-08-23\n",
       "...             ...         ...\n",
       "2225           0.50  2017-08-22\n",
       "2228           0.08  2017-08-23\n",
       "2226           0.00  2017-08-23\n",
       "2227           0.00  2017-08-23\n",
       "2229           0.45  2017-08-23\n",
       "\n",
       "[2230 rows x 2 columns]"
      ]
     },
     "execution_count": 11,
     "metadata": {},
     "output_type": "execute_result"
    }
   ],
   "source": [
    "# Design a query to retrieve the last 12 months of precipitation data and plot the results. \n",
    "# Starting from the most recent data point in the database. \n",
    "last_date_dt = dt.date(2017,8,23)\n",
    "\n",
    "starting_date_dt = dt.date(2017,8,23) - dt.timedelta(days=365)\n",
    "\n",
    "starting_date_dt\n",
    "# Calculate the date one year from the last date in data set.\n",
    "\n",
    "\n",
    "# Perform a query to retrieve the data and precipitation scores\n",
    "year_prcp = session.query(measurement.prcp, measurement.date).\\\n",
    "    filter(measurement.date >= '2016-08-23').\\\n",
    "    order_by(measurement.date).all()\n",
    "\n",
    "# year_prec\n",
    "# Save the query results as a Pandas DataFrame and set the index to the date column\n",
    "prcp_df = pd.DataFrame(year_prcp)\n",
    "prcp_df\n",
    "# Sort the dataframe by date\n",
    "\n",
    "\n",
    "prcp_df.rename(columns = {'prcp':'Precipitation','date':'Date'},inplace=True)\n",
    "\n",
    "prcp_df.sort_values('Date')\n"
   ]
  },
  {
   "cell_type": "code",
   "execution_count": 12,
   "metadata": {},
   "outputs": [
    {
     "data": {
      "image/png": "[encoded data removed]",
      "text/plain": [
       "<Figure size 1000x500 with 1 Axes>"
      ]
     },
     "metadata": {},
     "output_type": "display_data"
    },
    {
     "data": {
      "text/plain": [
       "<Figure size 640x480 with 0 Axes>"
      ]
     },
     "metadata": {},
     "output_type": "display_data"
    }
   ],
   "source": [
    "# Use Pandas Plotting with Matplotlib to plot the data\n",
    "ax = prcp_df.plot(x = 'Date', y = 'Precipitation',figsize=(10,5))\n",
    "plt.xticks(rotation=90)\n",
    "plt.ylabel('Inches')\n",
    "plt.show()\n",
    "plt.tight_layout()"
   ]
  },
  {
   "cell_type": "code",
   "execution_count": 13,
   "metadata": {},
   "outputs": [
    {
     "data": {
      "text/html": [
       "<div>\n",
       "<style scoped>\n",
       "    .dataframe tbody tr th:only-of-type {\n",
       "        vertical-align: middle;\n",
       "    }\n",
       "\n",
       "    .dataframe tbody tr th {\n",
       "        vertical-align: top;\n",
       "    }\n",
       "\n",
       "    .dataframe thead th {\n",
       "        text-align: right;\n",
       "    }\n",
       "</style>\n",
       "<table border=\"1\" class=\"dataframe\">\n",
       "  <thead>\n",
       "    <tr style=\"text-align: right;\">\n",
       "      <th></th>\n",
       "      <th>Precipitation</th>\n",
       "    </tr>\n",
       "  </thead>\n",
       "  <tbody>\n",
       "    <tr>\n",
       "      <th>count</th>\n",
       "      <td>2021.000000</td>\n",
       "    </tr>\n",
       "    <tr>\n",
       "      <th>mean</th>\n",
       "      <td>0.177279</td>\n",
       "    </tr>\n",
       "    <tr>\n",
       "      <th>std</th>\n",
       "      <td>0.461190</td>\n",
       "    </tr>\n",
       "    <tr>\n",
       "      <th>min</th>\n",
       "      <td>0.000000</td>\n",
       "    </tr>\n",
       "    <tr>\n",
       "      <th>25%</th>\n",
       "      <td>0.000000</td>\n",
       "    </tr>\n",
       "    <tr>\n",
       "      <th>50%</th>\n",
       "      <td>0.020000</td>\n",
       "    </tr>\n",
       "    <tr>\n",
       "      <th>75%</th>\n",
       "      <td>0.130000</td>\n",
       "    </tr>\n",
       "    <tr>\n",
       "      <th>max</th>\n",
       "      <td>6.700000</td>\n",
       "    </tr>\n",
       "  </tbody>\n",
       "</table>\n",
       "</div>"
      ],
      "text/plain": [
       "       Precipitation\n",
       "count    2021.000000\n",
       "mean        0.177279\n",
       "std         0.461190\n",
       "min         0.000000\n",
       "25%         0.000000\n",
       "50%         0.020000\n",
       "75%         0.130000\n",
       "max         6.700000"
      ]
     },
     "execution_count": 13,
     "metadata": {},
     "output_type": "execute_result"
    }
   ],
   "source": [
    "# Use Pandas to calcualte the summary statistics for the precipitation data\n",
    "prcp_df.describe()"
   ]
  },
  {
   "cell_type": "markdown",
   "metadata": {},
   "source": [
    "# Exploratory Station Analysis"
   ]
  },
  {
   "cell_type": "code",
   "execution_count": 14,
   "metadata": {},
   "outputs": [
    {
     "data": {
      "text/plain": [
       "{'_sa_instance_state': <sqlalchemy.orm.state.InstanceState at 0x28af3191610>,\n",
       " 'latitude': 21.2716,\n",
       " 'id': 1,\n",
       " 'elevation': 3.0,\n",
       " 'station': 'USC00519397',\n",
       " 'name': 'WAIKIKI 717.2, HI US',\n",
       " 'longitude': -157.8168}"
      ]
     },
     "execution_count": 14,
     "metadata": {},
     "output_type": "execute_result"
    }
   ],
   "source": [
    "first_row = session.query(station).first()\n",
    "first_row.__dict__"
   ]
  },
  {
   "cell_type": "code",
   "execution_count": 20,
   "metadata": {},
   "outputs": [
    {
     "name": "stdout",
     "output_type": "stream",
     "text": [
      "('USC00511918', 'HONOLULU OBSERVATORY 702.2, HI US', 8)\n",
      "('USC00513117', 'KANEOHE 838.1, HI US', 2)\n",
      "('USC00514830', 'KUALOA RANCH HEADQUARTERS 886.9, HI US', 3)\n",
      "('USC00516128', 'MANOA LYON ARBO 785.2, HI US', 9)\n",
      "('USC00517948', 'PEARL CITY, HI US', 4)\n",
      "('USC00518838', 'UPPER WAHIAWA 874.3, HI US', 5)\n",
      "('USC00519281', 'WAIHEE 837.5, HI US', 7)\n",
      "('USC00519397', 'WAIKIKI 717.2, HI US', 1)\n",
      "('USC00519523', 'WAIMANALO EXPERIMENTAL FARM, HI US', 6)\n"
     ]
    }
   ],
   "source": [
    "# Design a query to calculate the total number stations in the dataset\n",
    "query = sqlalchemy.select([station.station,station.name,station.id]).group_by(station.station)\n",
    "\n",
    "result = engine.execute(query).fetchall()\n",
    "\n",
    "for i in result:\n",
    "    print(i)"
   ]
  },
  {
   "cell_type": "code",
   "execution_count": 29,
   "metadata": {},
   "outputs": [
    {
     "data": {
      "text/plain": [
       "[('USC00511918', 1979),\n",
       " ('USC00513117', 2709),\n",
       " ('USC00514830', 2202),\n",
       " ('USC00516128', 2612),\n",
       " ('USC00517948', 1372),\n",
       " ('USC00518838', 511),\n",
       " ('USC00519281', 2772),\n",
       " ('USC00519397', 2724),\n",
       " ('USC00519523', 2669)]"
      ]
     },
     "execution_count": 29,
     "metadata": {},
     "output_type": "execute_result"
    }
   ],
   "source": [
    "# Design a query to find the most active stations (i.e. what stations have the most rows?)\n",
    "# List the stations and the counts in descending order.\n",
    "\n",
    "session.query(measurement.station,func.count(measurement.station)).group_by(measurement.station).all()"
   ]
  },
  {
   "cell_type": "code",
   "execution_count": 50,
   "metadata": {},
   "outputs": [
    {
     "name": "stdout",
     "output_type": "stream",
     "text": [
      "The highest temperature recorded was [(85.0,)]\n",
      "The lowest temperature recorded was [(54.0,)]\n",
      "The average temperature recorded was [(71.66378066378067,)]\n"
     ]
    }
   ],
   "source": [
    "# Using the most active station id from the previous query, calculate the lowest, highest, and average temperature.\n",
    "#max_temp = session.query(measurement.tobs,func.max).filter(measurement.station=='USC00519281')\n",
    "\n",
    "max_temp = session.query(func.max(measurement.tobs)).filter(measurement.station == 'USC00519281').all()\n",
    "min_temp = session.query(func.min(measurement.tobs)).filter(measurement.station == 'USC00519281').all()\n",
    "average_temp = session.query(func.avg(measurement.tobs)).filter(measurement.station == 'USC00519281').all()\n",
    "max_temp\n",
    "\n",
    "print(f\"The highest temperature recorded was {max_temp}\")\n",
    "print(f\"The lowest temperature recorded was {min_temp}\")\n",
    "print(f\"The average temperature recorded was {average_temp}\")"
   ]
  },
  {
   "cell_type": "code",
   "execution_count": 51,
   "metadata": {},
   "outputs": [
    {
     "data": {
      "text/plain": [
       "[(77.0, '2016-08-23'),\n",
       " (77.0, '2016-08-24'),\n",
       " (80.0, '2016-08-25'),\n",
       " (80.0, '2016-08-26'),\n",
       " (75.0, '2016-08-27'),\n",
       " (73.0, '2016-08-28'),\n",
       " (78.0, '2016-08-29'),\n",
       " (77.0, '2016-08-30'),\n",
       " (78.0, '2016-08-31'),\n",
       " (80.0, '2016-09-01'),\n",
       " (80.0, '2016-09-02'),\n",
       " (78.0, '2016-09-03'),\n",
       " (78.0, '2016-09-04'),\n",
       " (78.0, '2016-09-05'),\n",
       " (73.0, '2016-09-06'),\n",
       " (74.0, '2016-09-07'),\n",
       " (80.0, '2016-09-08'),\n",
       " (79.0, '2016-09-09'),\n",
       " (77.0, '2016-09-10'),\n",
       " (80.0, '2016-09-11'),\n",
       " (76.0, '2016-09-12'),\n",
       " (79.0, '2016-09-13'),\n",
       " (75.0, '2016-09-14'),\n",
       " (79.0, '2016-09-15'),\n",
       " (78.0, '2016-09-16'),\n",
       " (79.0, '2016-09-17'),\n",
       " (78.0, '2016-09-18'),\n",
       " (78.0, '2016-09-19'),\n",
       " (76.0, '2016-09-20'),\n",
       " (74.0, '2016-09-21'),\n",
       " (77.0, '2016-09-22'),\n",
       " (78.0, '2016-09-23'),\n",
       " (79.0, '2016-09-24'),\n",
       " (79.0, '2016-09-25'),\n",
       " (77.0, '2016-09-26'),\n",
       " (80.0, '2016-09-27'),\n",
       " (78.0, '2016-09-28'),\n",
       " (78.0, '2016-09-29'),\n",
       " (78.0, '2016-09-30'),\n",
       " (77.0, '2016-10-01'),\n",
       " (79.0, '2016-10-02'),\n",
       " (79.0, '2016-10-03'),\n",
       " (79.0, '2016-10-04'),\n",
       " (79.0, '2016-10-05'),\n",
       " (75.0, '2016-10-06'),\n",
       " (76.0, '2016-10-07'),\n",
       " (73.0, '2016-10-08'),\n",
       " (72.0, '2016-10-09'),\n",
       " (71.0, '2016-10-10'),\n",
       " (77.0, '2016-10-11'),\n",
       " (79.0, '2016-10-12'),\n",
       " (78.0, '2016-10-13'),\n",
       " (79.0, '2016-10-14'),\n",
       " (77.0, '2016-10-15'),\n",
       " (79.0, '2016-10-16'),\n",
       " (77.0, '2016-10-17'),\n",
       " (78.0, '2016-10-18'),\n",
       " (78.0, '2016-10-19'),\n",
       " (78.0, '2016-10-20'),\n",
       " (78.0, '2016-10-21'),\n",
       " (77.0, '2016-10-22'),\n",
       " (74.0, '2016-10-23'),\n",
       " (75.0, '2016-10-24'),\n",
       " (76.0, '2016-10-25'),\n",
       " (73.0, '2016-10-26'),\n",
       " (76.0, '2016-10-27'),\n",
       " (74.0, '2016-10-28'),\n",
       " (77.0, '2016-10-29'),\n",
       " (76.0, '2016-10-30'),\n",
       " (76.0, '2016-10-31'),\n",
       " (74.0, '2016-11-01'),\n",
       " (75.0, '2016-11-02'),\n",
       " (75.0, '2016-11-03'),\n",
       " (75.0, '2016-11-04'),\n",
       " (75.0, '2016-11-05'),\n",
       " (71.0, '2016-11-06'),\n",
       " (63.0, '2016-11-07'),\n",
       " (70.0, '2016-11-08'),\n",
       " (68.0, '2016-11-09'),\n",
       " (67.0, '2016-11-10'),\n",
       " (77.0, '2016-11-11'),\n",
       " (74.0, '2016-11-12'),\n",
       " (77.0, '2016-11-13'),\n",
       " (76.0, '2016-11-14'),\n",
       " (76.0, '2016-11-15'),\n",
       " (75.0, '2016-11-16'),\n",
       " (76.0, '2016-11-17'),\n",
       " (75.0, '2016-11-18'),\n",
       " (73.0, '2016-11-19'),\n",
       " (75.0, '2016-11-20'),\n",
       " (73.0, '2016-11-21'),\n",
       " (75.0, '2016-11-22'),\n",
       " (74.0, '2016-11-23'),\n",
       " (75.0, '2016-11-24'),\n",
       " (74.0, '2016-11-25'),\n",
       " (75.0, '2016-11-26'),\n",
       " (73.0, '2016-11-27'),\n",
       " (75.0, '2016-11-28'),\n",
       " (73.0, '2016-11-29'),\n",
       " (73.0, '2016-11-30'),\n",
       " (74.0, '2016-12-01'),\n",
       " (70.0, '2016-12-02'),\n",
       " (72.0, '2016-12-03'),\n",
       " (70.0, '2016-12-04'),\n",
       " (67.0, '2016-12-05'),\n",
       " (67.0, '2016-12-06'),\n",
       " (69.0, '2016-12-07'),\n",
       " (70.0, '2016-12-08'),\n",
       " (68.0, '2016-12-09'),\n",
       " (69.0, '2016-12-10'),\n",
       " (69.0, '2016-12-11'),\n",
       " (66.0, '2016-12-12'),\n",
       " (65.0, '2016-12-13'),\n",
       " (68.0, '2016-12-14'),\n",
       " (62.0, '2016-12-15'),\n",
       " (75.0, '2016-12-16'),\n",
       " (70.0, '2016-12-17'),\n",
       " (69.0, '2016-12-18'),\n",
       " (76.0, '2016-12-19'),\n",
       " (76.0, '2016-12-20'),\n",
       " (74.0, '2016-12-21'),\n",
       " (73.0, '2016-12-22'),\n",
       " (71.0, '2016-12-23'),\n",
       " (74.0, '2016-12-24'),\n",
       " (74.0, '2016-12-25'),\n",
       " (72.0, '2016-12-26'),\n",
       " (71.0, '2016-12-27'),\n",
       " (72.0, '2016-12-28'),\n",
       " (74.0, '2016-12-29'),\n",
       " (69.0, '2016-12-30'),\n",
       " (67.0, '2016-12-31'),\n",
       " (72.0, '2017-01-01'),\n",
       " (70.0, '2017-01-02'),\n",
       " (64.0, '2017-01-03'),\n",
       " (63.0, '2017-01-04'),\n",
       " (63.0, '2017-01-05'),\n",
       " (62.0, '2017-01-06'),\n",
       " (70.0, '2017-01-07'),\n",
       " (70.0, '2017-01-08'),\n",
       " (62.0, '2017-01-09'),\n",
       " (62.0, '2017-01-10'),\n",
       " (63.0, '2017-01-11'),\n",
       " (65.0, '2017-01-12'),\n",
       " (69.0, '2017-01-13'),\n",
       " (77.0, '2017-01-14'),\n",
       " (70.0, '2017-01-15'),\n",
       " (74.0, '2017-01-16'),\n",
       " (69.0, '2017-01-17'),\n",
       " (72.0, '2017-01-18'),\n",
       " (71.0, '2017-01-19'),\n",
       " (69.0, '2017-01-20'),\n",
       " (71.0, '2017-01-21'),\n",
       " (71.0, '2017-01-22'),\n",
       " (72.0, '2017-01-23'),\n",
       " (72.0, '2017-01-24'),\n",
       " (69.0, '2017-01-25'),\n",
       " (70.0, '2017-01-26'),\n",
       " (66.0, '2017-01-27'),\n",
       " (65.0, '2017-01-28'),\n",
       " (69.0, '2017-01-29'),\n",
       " (68.0, '2017-01-30'),\n",
       " (68.0, '2017-01-31'),\n",
       " (68.0, '2017-02-01'),\n",
       " (59.0, '2017-02-02'),\n",
       " (60.0, '2017-02-03'),\n",
       " (70.0, '2017-02-04'),\n",
       " (73.0, '2017-02-05'),\n",
       " (75.0, '2017-02-06'),\n",
       " (64.0, '2017-02-07'),\n",
       " (59.0, '2017-02-08'),\n",
       " (59.0, '2017-02-09'),\n",
       " (62.0, '2017-02-10'),\n",
       " (68.0, '2017-02-11'),\n",
       " (70.0, '2017-02-12'),\n",
       " (73.0, '2017-02-13'),\n",
       " (79.0, '2017-02-14'),\n",
       " (75.0, '2017-02-15'),\n",
       " (65.0, '2017-02-16'),\n",
       " (70.0, '2017-02-17'),\n",
       " (74.0, '2017-02-18'),\n",
       " (70.0, '2017-02-19'),\n",
       " (70.0, '2017-02-20'),\n",
       " (71.0, '2017-02-21'),\n",
       " (71.0, '2017-02-22'),\n",
       " (71.0, '2017-02-23'),\n",
       " (69.0, '2017-02-24'),\n",
       " (61.0, '2017-02-25'),\n",
       " (67.0, '2017-02-26'),\n",
       " (65.0, '2017-02-27'),\n",
       " (72.0, '2017-02-28'),\n",
       " (71.0, '2017-03-01'),\n",
       " (73.0, '2017-03-02'),\n",
       " (72.0, '2017-03-03'),\n",
       " (77.0, '2017-03-04'),\n",
       " (73.0, '2017-03-05'),\n",
       " (67.0, '2017-03-06'),\n",
       " (62.0, '2017-03-07'),\n",
       " (64.0, '2017-03-08'),\n",
       " (67.0, '2017-03-09'),\n",
       " (66.0, '2017-03-10'),\n",
       " (81.0, '2017-03-11'),\n",
       " (69.0, '2017-03-12'),\n",
       " (66.0, '2017-03-13'),\n",
       " (67.0, '2017-03-14'),\n",
       " (69.0, '2017-03-15'),\n",
       " (66.0, '2017-03-16'),\n",
       " (68.0, '2017-03-17'),\n",
       " (65.0, '2017-03-18'),\n",
       " (74.0, '2017-03-19'),\n",
       " (69.0, '2017-03-20'),\n",
       " (72.0, '2017-03-21'),\n",
       " (73.0, '2017-03-22'),\n",
       " (72.0, '2017-03-23'),\n",
       " (71.0, '2017-03-24'),\n",
       " (76.0, '2017-03-25'),\n",
       " (77.0, '2017-03-26'),\n",
       " (76.0, '2017-03-27'),\n",
       " (74.0, '2017-03-28'),\n",
       " (68.0, '2017-03-29'),\n",
       " (73.0, '2017-03-30'),\n",
       " (71.0, '2017-03-31'),\n",
       " (74.0, '2017-04-01'),\n",
       " (75.0, '2017-04-02'),\n",
       " (70.0, '2017-04-03'),\n",
       " (67.0, '2017-04-04'),\n",
       " (71.0, '2017-04-05'),\n",
       " (67.0, '2017-04-06'),\n",
       " (74.0, '2017-04-07'),\n",
       " (77.0, '2017-04-08'),\n",
       " (78.0, '2017-04-09'),\n",
       " (67.0, '2017-04-10'),\n",
       " (70.0, '2017-04-11'),\n",
       " (69.0, '2017-04-12'),\n",
       " (69.0, '2017-04-13'),\n",
       " (74.0, '2017-04-14'),\n",
       " (78.0, '2017-04-15'),\n",
       " (71.0, '2017-04-16'),\n",
       " (67.0, '2017-04-17'),\n",
       " (68.0, '2017-04-18'),\n",
       " (67.0, '2017-04-19'),\n",
       " (76.0, '2017-04-20'),\n",
       " (69.0, '2017-04-21'),\n",
       " (72.0, '2017-04-22'),\n",
       " (76.0, '2017-04-23'),\n",
       " (68.0, '2017-04-24'),\n",
       " (72.0, '2017-04-25'),\n",
       " (74.0, '2017-04-26'),\n",
       " (70.0, '2017-04-27'),\n",
       " (67.0, '2017-04-28'),\n",
       " (72.0, '2017-04-29'),\n",
       " (60.0, '2017-04-30'),\n",
       " (65.0, '2017-05-01'),\n",
       " (75.0, '2017-05-02'),\n",
       " (70.0, '2017-05-03'),\n",
       " (75.0, '2017-05-04'),\n",
       " (70.0, '2017-05-05'),\n",
       " (79.0, '2017-05-06'),\n",
       " (75.0, '2017-05-07'),\n",
       " (70.0, '2017-05-08'),\n",
       " (67.0, '2017-05-09'),\n",
       " (74.0, '2017-05-10'),\n",
       " (70.0, '2017-05-11'),\n",
       " (75.0, '2017-05-12'),\n",
       " (76.0, '2017-05-13'),\n",
       " (77.0, '2017-05-14'),\n",
       " (74.0, '2017-05-15'),\n",
       " (74.0, '2017-05-16'),\n",
       " (74.0, '2017-05-17'),\n",
       " (69.0, '2017-05-18'),\n",
       " (68.0, '2017-05-19'),\n",
       " (76.0, '2017-05-20'),\n",
       " (74.0, '2017-05-21'),\n",
       " (71.0, '2017-05-22'),\n",
       " (71.0, '2017-05-23'),\n",
       " (74.0, '2017-05-24'),\n",
       " (74.0, '2017-05-25'),\n",
       " (74.0, '2017-05-26'),\n",
       " (74.0, '2017-05-27'),\n",
       " (80.0, '2017-05-28'),\n",
       " (74.0, '2017-05-29'),\n",
       " (72.0, '2017-05-30'),\n",
       " (75.0, '2017-05-31'),\n",
       " (80.0, '2017-06-01'),\n",
       " (76.0, '2017-06-02'),\n",
       " (76.0, '2017-06-03'),\n",
       " (77.0, '2017-06-04'),\n",
       " (75.0, '2017-06-05'),\n",
       " (75.0, '2017-06-06'),\n",
       " (75.0, '2017-06-07'),\n",
       " (75.0, '2017-06-08'),\n",
       " (72.0, '2017-06-09'),\n",
       " (74.0, '2017-06-10'),\n",
       " (74.0, '2017-06-11'),\n",
       " (74.0, '2017-06-12'),\n",
       " (76.0, '2017-06-13'),\n",
       " (74.0, '2017-06-14'),\n",
       " (75.0, '2017-06-15'),\n",
       " (73.0, '2017-06-16'),\n",
       " (79.0, '2017-06-17'),\n",
       " (75.0, '2017-06-18'),\n",
       " (72.0, '2017-06-19'),\n",
       " (72.0, '2017-06-20'),\n",
       " (74.0, '2017-06-21'),\n",
       " (72.0, '2017-06-22'),\n",
       " (72.0, '2017-06-23'),\n",
       " (77.0, '2017-06-24'),\n",
       " (71.0, '2017-06-25'),\n",
       " (73.0, '2017-06-26'),\n",
       " (76.0, '2017-06-27'),\n",
       " (77.0, '2017-06-28'),\n",
       " (76.0, '2017-06-29'),\n",
       " (76.0, '2017-06-30'),\n",
       " (79.0, '2017-07-01'),\n",
       " (81.0, '2017-07-02'),\n",
       " (76.0, '2017-07-03'),\n",
       " (78.0, '2017-07-04'),\n",
       " (77.0, '2017-07-05'),\n",
       " (74.0, '2017-07-06'),\n",
       " (75.0, '2017-07-07'),\n",
       " (78.0, '2017-07-08'),\n",
       " (78.0, '2017-07-09'),\n",
       " (69.0, '2017-07-10'),\n",
       " (72.0, '2017-07-11'),\n",
       " (74.0, '2017-07-12'),\n",
       " (74.0, '2017-07-13'),\n",
       " (76.0, '2017-07-14'),\n",
       " (80.0, '2017-07-15'),\n",
       " (80.0, '2017-07-16'),\n",
       " (76.0, '2017-07-17'),\n",
       " (76.0, '2017-07-18'),\n",
       " (76.0, '2017-07-19'),\n",
       " (77.0, '2017-07-20'),\n",
       " (77.0, '2017-07-21'),\n",
       " (77.0, '2017-07-22'),\n",
       " (82.0, '2017-07-23'),\n",
       " (75.0, '2017-07-24'),\n",
       " (77.0, '2017-07-25'),\n",
       " (75.0, '2017-07-26'),\n",
       " (76.0, '2017-07-27'),\n",
       " (81.0, '2017-07-28'),\n",
       " (82.0, '2017-07-29'),\n",
       " (81.0, '2017-07-30'),\n",
       " (76.0, '2017-07-31'),\n",
       " (77.0, '2017-08-04'),\n",
       " (82.0, '2017-08-05'),\n",
       " (83.0, '2017-08-06'),\n",
       " (77.0, '2017-08-13'),\n",
       " (77.0, '2017-08-14'),\n",
       " (77.0, '2017-08-15'),\n",
       " (76.0, '2017-08-16'),\n",
       " (76.0, '2017-08-17'),\n",
       " (79.0, '2017-08-18')]"
      ]
     },
     "execution_count": 51,
     "metadata": {},
     "output_type": "execute_result"
    }
   ],
   "source": [
    "# Using the most active station id\n",
    "# Query the last 12 months of temperature observation data for this station and plot the results as a histogram\n",
    "year_temp = session.query(measurement.tobs, measurement.date).\\\n",
    "    filter(measurement.date >= '2016-08-23').\\\n",
    "    filter(measurement.station == 'USC00519281').\\\n",
    "    order_by(measurement.date).all()\n",
    "\n",
    "year_temp"
   ]
  },
  {
   "cell_type": "markdown",
   "metadata": {},
   "source": [
    "# Close session"
   ]
  },
  {
   "cell_type": "code",
   "execution_count": 52,
   "metadata": {},
   "outputs": [
    {
     "data": {
      "text/html": [
       "<div>\n",
       "<style scoped>\n",
       "    .dataframe tbody tr th:only-of-type {\n",
       "        vertical-align: middle;\n",
       "    }\n",
       "\n",
       "    .dataframe tbody tr th {\n",
       "        vertical-align: top;\n",
       "    }\n",
       "\n",
       "    .dataframe thead th {\n",
       "        text-align: right;\n",
       "    }\n",
       "</style>\n",
       "<table border=\"1\" class=\"dataframe\">\n",
       "  <thead>\n",
       "    <tr style=\"text-align: right;\">\n",
       "      <th></th>\n",
       "      <th>tobs</th>\n",
       "      <th>date</th>\n",
       "    </tr>\n",
       "  </thead>\n",
       "  <tbody>\n",
       "    <tr>\n",
       "      <th>0</th>\n",
       "      <td>77.0</td>\n",
       "      <td>2016-08-23</td>\n",
       "    </tr>\n",
       "    <tr>\n",
       "      <th>1</th>\n",
       "      <td>77.0</td>\n",
       "      <td>2016-08-24</td>\n",
       "    </tr>\n",
       "    <tr>\n",
       "      <th>2</th>\n",
       "      <td>80.0</td>\n",
       "      <td>2016-08-25</td>\n",
       "    </tr>\n",
       "    <tr>\n",
       "      <th>3</th>\n",
       "      <td>80.0</td>\n",
       "      <td>2016-08-26</td>\n",
       "    </tr>\n",
       "    <tr>\n",
       "      <th>4</th>\n",
       "      <td>75.0</td>\n",
       "      <td>2016-08-27</td>\n",
       "    </tr>\n",
       "    <tr>\n",
       "      <th>...</th>\n",
       "      <td>...</td>\n",
       "      <td>...</td>\n",
       "    </tr>\n",
       "    <tr>\n",
       "      <th>347</th>\n",
       "      <td>77.0</td>\n",
       "      <td>2017-08-14</td>\n",
       "    </tr>\n",
       "    <tr>\n",
       "      <th>348</th>\n",
       "      <td>77.0</td>\n",
       "      <td>2017-08-15</td>\n",
       "    </tr>\n",
       "    <tr>\n",
       "      <th>349</th>\n",
       "      <td>76.0</td>\n",
       "      <td>2017-08-16</td>\n",
       "    </tr>\n",
       "    <tr>\n",
       "      <th>350</th>\n",
       "      <td>76.0</td>\n",
       "      <td>2017-08-17</td>\n",
       "    </tr>\n",
       "    <tr>\n",
       "      <th>351</th>\n",
       "      <td>79.0</td>\n",
       "      <td>2017-08-18</td>\n",
       "    </tr>\n",
       "  </tbody>\n",
       "</table>\n",
       "<p>352 rows × 2 columns</p>\n",
       "</div>"
      ],
      "text/plain": [
       "     tobs        date\n",
       "0    77.0  2016-08-23\n",
       "1    77.0  2016-08-24\n",
       "2    80.0  2016-08-25\n",
       "3    80.0  2016-08-26\n",
       "4    75.0  2016-08-27\n",
       "..    ...         ...\n",
       "347  77.0  2017-08-14\n",
       "348  77.0  2017-08-15\n",
       "349  76.0  2017-08-16\n",
       "350  76.0  2017-08-17\n",
       "351  79.0  2017-08-18\n",
       "\n",
       "[352 rows x 2 columns]"
      ]
     },
     "execution_count": 52,
     "metadata": {},
     "output_type": "execute_result"
    }
   ],
   "source": [
    "temp_df = pd.DataFrame(year_temp)\n",
    "\n",
    "temp_df"
   ]
  },
  {
   "cell_type": "code",
   "execution_count": 64,
   "metadata": {},
   "outputs": [
    {
     "data": {
      "image/png": "[encoded data removed]",
      "text/plain": [
       "<Figure size 640x480 with 1 Axes>"
      ]
     },
     "metadata": {},
     "output_type": "display_data"
    }
   ],
   "source": [
    "hist = temp_df.hist(bins=12)\n",
    "plt.xlabel('Temperature')\n",
    "plt.ylabel('Frequency')\n",
    "\n",
    "plt.show()"
   ]
  },
  {
   "cell_type": "code",
   "execution_count": 19,
   "metadata": {},
   "outputs": [],
   "source": [
    "# Close Session\n",
    "session.close()"
   ]
  },
  {
   "cell_type": "code",
   "execution_count": null,
   "metadata": {},
   "outputs": [],
   "source": []
  }
 ],
 "metadata": {
  "anaconda-cloud": {},
  "kernel_info": {
   "name": "python3"
  },
  "kernelspec": {
   "display_name": "Python 3",
   "language": "python",
   "name": "python3"
  },
  "language_info": {
   "codemirror_mode": {
    "name": "ipython",
    "version": 3
   },
   "file_extension": ".py",
   "mimetype": "text/x-python",
   "name": "python",
   "nbconvert_exporter": "python",
   "pygments_lexer": "ipython3",
   "version": "3.9.13"
  },
  "nteract": {
   "version": "0.12.3"
  },
  "varInspector": {
   "cols": {
    "lenName": 16,
    "lenType": 16,
    "lenVar": 40
   },
   "kernels_config": {
    "python": {
     "delete_cmd_postfix": "",
     "delete_cmd_prefix": "del ",
     "library": "var_list.py",
     "varRefreshCmd": "print(var_dic_list())"
    },
    "r": {
     "delete_cmd_postfix": ") ",
     "delete_cmd_prefix": "rm(",
     "library": "var_list.r",
     "varRefreshCmd": "cat(var_dic_list()) "
    }
   },
   "types_to_exclude": [
    "module",
    "function",
    "builtin_function_or_method",
    "instance",
    "_Feature"
   ],
   "window_display": false
  }
 },
 "nbformat": 4,
 "nbformat_minor": 2
}
